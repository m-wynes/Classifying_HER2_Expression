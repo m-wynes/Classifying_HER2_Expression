{
 "cells": [
  {
   "cell_type": "markdown",
   "id": "c6d19fbe",
   "metadata": {},
   "source": [
    "Model definition, training and evaluation"
   ]
  },
  {
   "cell_type": "code",
   "execution_count": null,
   "id": "22fa7e3f",
   "metadata": {
    "execution": {
     "iopub.execute_input": "2025-10-21T21:15:02.585942Z",
     "iopub.status.busy": "2025-10-21T21:15:02.585819Z",
     "iopub.status.idle": "2025-10-21T21:15:17.634238Z",
     "shell.execute_reply": "2025-10-21T21:15:17.633750Z"
    }
   },
   "outputs": [],
   "source": [
    "# --- Import libraries ---\n",
    "import torch\n",
    "import torchvision\n",
    "import torch.nn as nn\n",
    "import matplotlib.pyplot as plt\n",
    "import numpy as np\n",
    "from sklearn.metrics import accuracy_score, precision_score, recall_score, roc_curve, auc\n",
    "from collections import Counter\n",
    "from sklearn.preprocessing import label_binarize\n"
   ]
  },
  {
   "cell_type": "code",
   "execution_count": null,
   "id": "4438eed8",
   "metadata": {
    "execution": {
     "iopub.execute_input": "2025-10-21T21:15:17.636322Z",
     "iopub.status.busy": "2025-10-21T21:15:17.636078Z",
     "iopub.status.idle": "2025-10-21T21:15:17.641179Z",
     "shell.execute_reply": "2025-10-21T21:15:17.640858Z"
    }
   },
   "outputs": [],
   "source": [
    "# --- Import preprocessing function ---\n",
    "from data_preprocessing import get_dataloaders"
   ]
  },
  {
   "cell_type": "code",
   "execution_count": null,
   "id": "13a00b59",
   "metadata": {
    "execution": {
     "iopub.execute_input": "2025-10-21T21:15:17.642622Z",
     "iopub.status.busy": "2025-10-21T21:15:17.642496Z",
     "iopub.status.idle": "2025-10-21T21:15:17.725398Z",
     "shell.execute_reply": "2025-10-21T21:15:17.725072Z"
    }
   },
   "outputs": [],
   "source": [
    "device = torch.device(\"cuda\" if torch.cuda.is_available() else \"cpu\")"
   ]
  },
  {
   "cell_type": "code",
   "execution_count": null,
   "id": "f493d20e",
   "metadata": {
    "execution": {
     "iopub.execute_input": "2025-10-21T21:15:17.726886Z",
     "iopub.status.busy": "2025-10-21T21:15:17.726760Z",
     "iopub.status.idle": "2025-10-21T21:15:17.794335Z",
     "shell.execute_reply": "2025-10-21T21:15:17.794014Z"
    }
   },
   "outputs": [],
   "source": [
    "# --- Load DataLoaders ---\n",
    "train_loader, val_loader, test_loader = get_dataloaders(\n",
    "    train_directory = \"/path/to/BCI_dataset/HE/train\", # insert path to train dataset\n",
    "    test_directory = \"/path/to/BCI_dataset/HE/test\", # insert path to test dataset\n",
    "    batch_size = 32\n",
    ")\n",
    "print(\"DataLoaders loaded successfully!\")"
   ]
  },
  {
   "cell_type": "code",
   "execution_count": null,
   "id": "f4641ab4",
   "metadata": {
    "execution": {
     "iopub.execute_input": "2025-10-21T21:15:17.795782Z",
     "iopub.status.busy": "2025-10-21T21:15:17.795655Z",
     "iopub.status.idle": "2025-10-21T21:15:46.125061Z",
     "shell.execute_reply": "2025-10-21T21:15:46.124589Z"
    }
   },
   "outputs": [],
   "source": [
    "# --- Determine class distribution in training set ---\n",
    "training_labels = [label for _, label in train_loader.dataset]\n",
    "print(\"Training HER2 expression levels:\", Counter(training_labels))"
   ]
  },
  {
   "cell_type": "code",
   "execution_count": null,
   "id": "cb64aecb",
   "metadata": {
    "execution": {
     "iopub.execute_input": "2025-10-21T21:15:46.126804Z",
     "iopub.status.busy": "2025-10-21T21:15:46.126651Z",
     "iopub.status.idle": "2025-10-21T21:15:46.560256Z",
     "shell.execute_reply": "2025-10-21T21:15:46.559888Z"
    }
   },
   "outputs": [],
   "source": [
    "# --- Visualizing Training Sample Images ---\n",
    "\n",
    "classes = [\"HER2 0\", \"HER2 1+\", \"HER2 2+\", \"HER2 3+\"]\n",
    "\n",
    "figure = plt.figure(figsize=(15, 3))\n",
    "cols, rows = 5, 1\n",
    "dataset = train_loader.dataset\n",
    "figure.suptitle(\"Training Sample Images\", fontsize = 16)\n",
    "\n",
    "for i in range(1, cols * rows + 1): \n",
    "    sample_idx = torch.randint(len(dataset), size = (1,)).item() \n",
    "    img, label = dataset[sample_idx]\n",
    "    \n",
    "    if isinstance(img, torch.Tensor): \n",
    "        img = img.permute(1, 2, 0)# converts CxHxW to HxWxC\n",
    "    \n",
    "    figure.add_subplot(rows, cols, i) \n",
    "    plt.title(classes[label]) \n",
    "    plt.axis(\"off\") \n",
    "    plt.imshow(img) \n",
    "plt.tight_layout(rect = [0, 0, 1, 1])\n",
    "plt.show()"
   ]
  },
  {
   "cell_type": "code",
   "execution_count": null,
   "id": "6a1c9c08",
   "metadata": {
    "execution": {
     "iopub.execute_input": "2025-10-21T21:15:46.561840Z",
     "iopub.status.busy": "2025-10-21T21:15:46.561702Z",
     "iopub.status.idle": "2025-10-21T21:15:47.036820Z",
     "shell.execute_reply": "2025-10-21T21:15:47.036478Z"
    }
   },
   "outputs": [],
   "source": [
    "# --- Create class weights ---\n",
    "class_counts = Counter(training_labels)\n",
    "\n",
    "total_samples = sum(class_counts.values())\n",
    "num_classes = len(class_counts)\n",
    "\n",
    "class_weights = torch.tensor([total_samples / (num_classes * class_counts[i]) for i in range (num_classes)], dtype = torch.float32).to(device)\n",
    "print(f\"Class Weights: {class_weights}\")"
   ]
  },
  {
   "cell_type": "code",
   "execution_count": null,
   "id": "dacae737",
   "metadata": {
    "execution": {
     "iopub.execute_input": "2025-10-21T21:15:47.038400Z",
     "iopub.status.busy": "2025-10-21T21:15:47.038263Z",
     "iopub.status.idle": "2025-10-21T21:15:47.046664Z",
     "shell.execute_reply": "2025-10-21T21:15:47.046352Z"
    }
   },
   "outputs": [],
   "source": [
    "# --- Define Model ---\n",
    "class InceptionBlock(nn.Module):\n",
    "    def __init__(self, in_channels):\n",
    "        super(InceptionBlock, self).__init__()\n",
    "        # 1x1 conv branch\n",
    "        self.branch1 = nn.Conv2d(in_channels, 32, kernel_size=1)\n",
    "\n",
    "        # 1x1 conv -> 3x3 conv branch\n",
    "        self.branch2 = nn.Sequential(\n",
    "            nn.Conv2d(in_channels, 32, kernel_size=1),\n",
    "            nn.BatchNorm2d(32),\n",
    "            nn.ReLU(inplace = True),\n",
    "            \n",
    "            nn.Conv2d(32, 48, kernel_size = 3, padding = 1),\n",
    "            nn.BatchNorm2d(48),\n",
    "            nn.ReLU(inplace = True)\n",
    "        )\n",
    "\n",
    "        # 1x1 conv -> 5x5 conv branch\n",
    "        self.branch3 = nn.Sequential(\n",
    "            nn.Conv2d(in_channels, 16, kernel_size=1),\n",
    "            nn.BatchNorm2d(16),\n",
    "            nn.ReLU(inplace = True),\n",
    "            \n",
    "            nn.Conv2d(16, 24, kernel_size = 5, padding = 2),\n",
    "            nn.BatchNorm2d(24),\n",
    "            nn.ReLU(inplace = True)\n",
    "        )\n",
    "\n",
    "        # 3x3 maxpool -> 1x1 conv branch\n",
    "        self.branch4 = nn.Sequential(\n",
    "            nn.MaxPool2d(kernel_size = 3, stride = 1, padding = 1),\n",
    "            nn.Conv2d(in_channels, 16, kernel_size = 1),\n",
    "            nn.BatchNorm2d(16),\n",
    "            nn.ReLU(inplace = True)\n",
    "        )\n",
    "\n",
    "    def forward(self, x):\n",
    "        branch1 = self.branch1(x)\n",
    "        branch2 = self.branch2(x)\n",
    "        branch3 = self.branch3(x)\n",
    "        branch4 = self.branch4(x)\n",
    "        outputs = torch.cat([branch1, branch2, branch3, branch4], dim = 1)\n",
    "        return outputs\n",
    "\n",
    "class CustomCNN(nn.Module):\n",
    "    def __init__(self):\n",
    "        super(CustomCNN, self).__init__()\n",
    "        self.inception = InceptionBlock(in_channels = 3)  \n",
    "\n",
    "        self.features = nn.Sequential(\n",
    "            nn.Conv2d(120, 128, kernel_size=3, padding = 1),  # 120 channels from Inception output\n",
    "            nn.BatchNorm2d(128),\n",
    "            nn.ReLU(inplace=True),\n",
    "            nn.MaxPool2d(kernel_size = 2, stride = 2),\n",
    "            \n",
    "            InceptionBlock(in_channels = 128), \n",
    "            \n",
    "            nn.Conv2d(120, 256, kernel_size = 3, padding = 1),\n",
    "            nn.BatchNorm2d(256),\n",
    "            nn.ReLU(inplace = True),\n",
    "            nn.MaxPool2d(kernel_size = 2, stride = 2),\n",
    "            \n",
    "            InceptionBlock(in_channels = 256),\n",
    "            \n",
    "            nn.Conv2d(120, 256, kernel_size = 3, padding = 1),\n",
    "            nn.BatchNorm2d(256),\n",
    "            nn.ReLU(inplace = True),\n",
    "            nn.MaxPool2d(kernel_size=2, stride=2),\n",
    "            \n",
    "            InceptionBlock(in_channels = 256),\n",
    "            \n",
    "            nn.Conv2d(120, 512, kernel_size = 3, padding = 1), # added another conv - changed input to match new conv\n",
    "            nn.BatchNorm2d(512),\n",
    "            nn.ReLU(inplace = True),\n",
    "            nn.MaxPool2d(kernel_size=2, stride=2),\n",
    "            \n",
    "            nn.Conv2d(512, 1024, kernel_size=3, padding=2), \n",
    "            nn.BatchNorm2d(1024),\n",
    "            nn.ReLU(inplace=True),\n",
    "            nn.MaxPool2d(kernel_size=2, stride=2),\n",
    "        )\n",
    "        \n",
    "        self.global_avg_pool = nn.AdaptiveAvgPool2d((1,1))\n",
    "\n",
    "        self.classifier = nn.Sequential(\n",
    "            nn.Dropout(),\n",
    "            nn.Linear(1024,512), \n",
    "            nn.ReLU(inplace = True),\n",
    "            nn.Dropout(),\n",
    "            nn.Linear(512, 256), \n",
    "            nn.ReLU(inplace = True),\n",
    "            nn.Dropout(), \n",
    "            nn.Linear(256, 4)  # 4 classes\n",
    "        )\n",
    "\n",
    "    def forward(self, x):\n",
    "        x = self.inception(x)\n",
    "        x = self.features(x)\n",
    "        x = self.global_avg_pool(x)\n",
    "        x = x.view(x.size(0), -1)\n",
    "        x = self.classifier(x)\n",
    "        return x"
   ]
  },
  {
   "cell_type": "code",
   "execution_count": null,
   "id": "6fbf4f96",
   "metadata": {
    "execution": {
     "iopub.execute_input": "2025-10-21T21:15:47.048020Z",
     "iopub.status.busy": "2025-10-21T21:15:47.047899Z",
     "iopub.status.idle": "2025-10-21T21:15:47.093835Z",
     "shell.execute_reply": "2025-10-21T21:15:47.093491Z"
    }
   },
   "outputs": [],
   "source": [
    "HER2_expression_model = CustomCNN().to(device)\n",
    "print(HER2_expression_model)"
   ]
  },
  {
   "cell_type": "code",
   "execution_count": null,
   "id": "e50c6166",
   "metadata": {
    "execution": {
     "iopub.execute_input": "2025-10-21T21:15:47.095262Z",
     "iopub.status.busy": "2025-10-21T21:15:47.095132Z",
     "iopub.status.idle": "2025-10-21T21:15:47.097446Z",
     "shell.execute_reply": "2025-10-21T21:15:47.097134Z"
    }
   },
   "outputs": [],
   "source": [
    "# --- Define number of epochs ---\n",
    "n_epochs = 60 "
   ]
  },
  {
   "cell_type": "code",
   "execution_count": null,
   "id": "18bf0f71",
   "metadata": {
    "execution": {
     "iopub.execute_input": "2025-10-21T21:15:47.098739Z",
     "iopub.status.busy": "2025-10-21T21:15:47.098617Z",
     "iopub.status.idle": "2025-10-21T22:31:03.804963Z",
     "shell.execute_reply": "2025-10-21T22:31:03.804567Z"
    }
   },
   "outputs": [],
   "source": [
    "# --- Train Model ---\n",
    "HER2_expression_model.train()\n",
    "\n",
    "optimizer = torch.optim.Adam(HER2_expression_model.parameters(), lr=0.0001, weight_decay = 0.0001)\n",
    "loss_fn = nn.CrossEntropyLoss(weight = class_weights)\n",
    "\n",
    "losses = []\n",
    "for epoch in range(n_epochs):\n",
    "    running_loss = 0\n",
    "    for i, (images, labels) in enumerate(train_loader):\n",
    "        images = images.to(device)\n",
    "        labels = labels.to(device)\n",
    "\n",
    "        optimizer.zero_grad()\n",
    "        predictions = HER2_expression_model(images)\n",
    "        loss = loss_fn(predictions, labels)\n",
    "\n",
    "        loss.backward()\n",
    "        optimizer.step()\n",
    "\n",
    "        running_loss += loss.item()\n",
    "\n",
    "    # Report epochs\n",
    "    avg_loss = running_loss / len(train_loader)\n",
    "    losses.append(avg_loss)  # append only one value per epoch\n",
    "    print(f\"Epoch {epoch+1}/{n_epochs}, Loss: {avg_loss:.4f}\")"
   ]
  },
  {
   "cell_type": "code",
   "execution_count": null,
   "id": "79b21704",
   "metadata": {
    "execution": {
     "iopub.execute_input": "2025-10-21T22:31:03.806716Z",
     "iopub.status.busy": "2025-10-21T22:31:03.806575Z",
     "iopub.status.idle": "2025-10-21T22:31:03.893233Z",
     "shell.execute_reply": "2025-10-21T22:31:03.892907Z"
    }
   },
   "outputs": [],
   "source": [
    "# --- Loss Plot ---\n",
    "fig, ax = plt.subplots()\n",
    "ax.plot(losses)"
   ]
  },
  {
   "cell_type": "code",
   "execution_count": null,
   "id": "0ae06832",
   "metadata": {
    "execution": {
     "iopub.execute_input": "2025-10-21T22:31:03.894597Z",
     "iopub.status.busy": "2025-10-21T22:31:03.894477Z",
     "iopub.status.idle": "2025-10-21T22:31:51.495213Z",
     "shell.execute_reply": "2025-10-21T22:31:51.494620Z"
    }
   },
   "outputs": [],
   "source": [
    "# -- Evaluate Model --\n",
    "HER2_expression_model.eval()\n",
    "\n",
    "def evaluate_model(loader, model, num_classes):\n",
    "    y_true = []\n",
    "    y_pred = []\n",
    "    y_prob = []\n",
    "    \n",
    "    for images, labels in loader:\n",
    "        images = images.to(device).float()\n",
    "        labels = labels.cpu().numpy()\n",
    "        \n",
    "        outputs = model(images).cpu().detach().numpy()\n",
    "        predictions = np.argmax(outputs, axis = 1)\n",
    "        \n",
    "        y_true.extend(labels)\n",
    "        y_pred.extend(predictions)\n",
    "        y_prob.extend(outputs)\n",
    "    \n",
    "    y_true = np.array(y_true)\n",
    "    y_pred = np.array(y_pred)\n",
    "    y_prob = np.array(y_prob)\n",
    "    \n",
    "    print(\"Accuracy:\", accuracy_score(y_true, y_pred))\n",
    "    print(\"Precision (macro):\", precision_score(y_true, y_pred, average = \"macro\"))\n",
    "    print(\"Recall (macro):\", recall_score(y_true, y_pred, average = \"macro\"))\n",
    "    \n",
    "    # --- ROC-AUC curves ---\n",
    "    try:\n",
    "        y_true_bin = label_binarize(y_true, classes=list(range(num_classes)))\n",
    "        fpr = dict()\n",
    "        tpr = dict()\n",
    "        roc_auc = dict()\n",
    "\n",
    "        for i in range(num_classes):\n",
    "            fpr[i], tpr[i], _ = roc_curve(y_true_bin[:, i], y_prob[:, i])\n",
    "            roc_auc[i] = auc(fpr[i], tpr[i])\n",
    "        \n",
    "        # Micro-average curve (\"global\" curve that considers all predictions equally)\n",
    "        fpr[\"micro\"], tpr[\"micro\"], _ = roc_curve(y_true_bin.ravel(), y_prob.ravel())\n",
    "        roc_auc[\"micro\"] = auc(fpr[\"micro\"], tpr[\"micro\"])\n",
    "\n",
    "        # Plot ROC curves\n",
    "        plt.figure(figsize=(6, 4))\n",
    "        plt.plot(fpr[\"micro\"], tpr[\"micro\"], label=f\"micro-average ROC (AUC={roc_auc['micro']:.2f})\", color=\"deeppink\", linestyle=\":\", linewidth=4)\n",
    "        colors = ['aqua', 'darkorange', 'cornflowerblue', 'green']\n",
    "        for i, color in zip(range(num_classes), colors):\n",
    "            plt.plot(fpr[i], tpr[i], color=color, label=f\"Class {i} ROC (AUC={roc_auc[i]:.2f})\")\n",
    "        plt.plot([0, 1], [0, 1], color='navy', linestyle='--')\n",
    "        plt.xlim([0.0, 1.0])\n",
    "        plt.ylim([0.0, 1.05])\n",
    "        plt.xlabel(\"False Positive Rate\")\n",
    "        plt.ylabel(\"True Positive Rate\")\n",
    "        plt.title(\"Multiclass ROC Curve\")\n",
    "        plt.legend(loc=\"lower right\")\n",
    "        plt.show()\n",
    "\n",
    "    except Exception as e:\n",
    "        print(\"ROC-AUC could not be calculated:\", e)\n",
    "\n",
    "# --- Training Set Evaluation ---\n",
    "print(\"Training Set Evaluation\")\n",
    "evaluate_model(train_loader, HER2_expression_model, num_classes = 4)\n",
    "\n",
    "# --- Validation Set Evaluation ---\n",
    "print(\"\\nValidation Set Evaluation\")\n",
    "evaluate_model(val_loader, HER2_expression_model, num_classes = 4)\n",
    "        "
   ]
  }
 ],
 "metadata": {
  "kernelspec": {
   "display_name": "venv (3.12.0)",
   "language": "python",
   "name": "python3"
  },
  "language_info": {
   "codemirror_mode": {
    "name": "ipython",
    "version": 3
   },
   "file_extension": ".py",
   "mimetype": "text/x-python",
   "name": "python",
   "nbconvert_exporter": "python",
   "pygments_lexer": "ipython3",
   "version": "3.11.13"
  }
 },
 "nbformat": 4,
 "nbformat_minor": 5
}
